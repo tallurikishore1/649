{
 "cells": [
  {
   "cell_type": "code",
   "execution_count": 7,
   "id": "4480d49a-e89c-429d-bd2e-e75ab752b328",
   "metadata": {},
   "outputs": [
    {
     "ename": "SyntaxError",
     "evalue": "'{' was never closed (3347411841.py, line 5)",
     "output_type": "error",
     "traceback": [
      "\u001b[1;36m  Cell \u001b[1;32mIn[7], line 5\u001b[1;36m\u001b[0m\n\u001b[1;33m    data = pd.DataFrame({\u001b[0m\n\u001b[1;37m                        ^\u001b[0m\n\u001b[1;31mSyntaxError\u001b[0m\u001b[1;31m:\u001b[0m '{' was never closed\n"
     ]
    }
   ],
   "source": [
    "import numpy as np\n",
    "import seaborn  as sns\n",
    "import matplotlib.pyplot as plt\n",
    "np.random.seed(10)\n",
    "data = pd.DataFrame({\n",
    "    'value':np.concatenate([np.random.normal(12,3,2),np.random(10,322,3)]\n",
    "                           })\n",
    "Q1 = data['value'].quentile(0.25)\n",
    "Q3 = data['value'].quantile(0.75)\n",
    "IQR = Q3 - Q1\n",
    "lower_bound = Q1 - 1.5 * IQR\n",
    "upper_bound = Q3 + 1.5 * IQR\n",
    "outlier = data[(data['value'] < lower_bound) | (data['value'] > upper_bound)]\n",
    "print(f\"Outlier based on box plot criteria:\\n{outliers}\")\n",
    "plt.figure(figsize=(12,3))\n",
    "plt.subplot(1,2,1)\n",
    "sns.violimplot(x=data['value'])\n",
    "plt.title(\"Violin Plot\")"
   ]
  },
  {
   "cell_type": "code",
   "execution_count": null,
   "id": "4568e667-98ff-4e24-a8f4-fccf1ca5b098",
   "metadata": {},
   "outputs": [],
   "source": []
  }
 ],
 "metadata": {
  "kernelspec": {
   "display_name": "Python 3 (ipykernel)",
   "language": "python",
   "name": "python3"
  },
  "language_info": {
   "codemirror_mode": {
    "name": "ipython",
    "version": 3
   },
   "file_extension": ".py",
   "mimetype": "text/x-python",
   "name": "python",
   "nbconvert_exporter": "python",
   "pygments_lexer": "ipython3",
   "version": "3.12.4"
  }
 },
 "nbformat": 4,
 "nbformat_minor": 5
}
