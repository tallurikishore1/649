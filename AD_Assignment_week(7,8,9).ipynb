{
  "nbformat": 4,
  "nbformat_minor": 0,
  "metadata": {
    "colab": {
      "provenance": []
    },
    "kernelspec": {
      "name": "python3",
      "display_name": "Python 3"
    },
    "language_info": {
      "name": "python"
    }
  },
  "cells": [
    {
      "cell_type": "code",
      "execution_count": 7,
      "metadata": {
        "colab": {
          "base_uri": "https://localhost:8080/"
        },
        "id": "qNxEmtO5jPPV",
        "outputId": "cc648599-b2b6-4ff1-c231-312b82f21f1f"
      },
      "outputs": [
        {
          "output_type": "stream",
          "name": "stdout",
          "text": [
            "First 5 rows of the dataset:\n",
            "         Date Product Region    Sales  Profit  Quantity\n",
            "0  2023-01-02  Tablet   East  1061.81  236.12         7\n",
            "1  2023-01-06  Laptop  North  1926.07  246.34         8\n",
            "2  2023-01-03  Tablet   East  1597.99  253.17         3\n",
            "3  2023-01-20  Tablet  North  1397.99  242.23         1\n",
            "4  2023-01-04  Laptop   West   734.03  140.36         4\n",
            "\n",
            "Basic statistics of numerical columns:\n",
            "             Sales      Profit   Quantity\n",
            "count    20.000000   20.000000  20.000000\n",
            "mean   1186.553000  211.533000   5.050000\n",
            "std     461.528444   66.916251   2.543826\n",
            "min     530.880000   82.160000   1.000000\n",
            "25%     774.517500  166.515000   2.750000\n",
            "50%    1104.865000  214.670000   5.000000\n",
            "75%    1571.080000  248.047500   7.250000\n",
            "max    1954.860000  364.970000   9.000000\n"
          ]
        }
      ],
      "source": [
        "#day-7\n",
        "\n",
        "import pandas as pd\n",
        "\n",
        "file_path = \"/content/drive/MyDrive/Day_7_sales_data.csv\"\n",
        "data = pd.read_csv(file_path)\n",
        "\n",
        "print(\"First 5 rows of the dataset:\")\n",
        "print(data.head())\n",
        "\n",
        "print(\"\\nBasic statistics of numerical columns:\")\n",
        "print(data.describe())"
      ]
    },
    {
      "cell_type": "markdown",
      "source": [],
      "metadata": {
        "id": "u8f1xTiBlRpP"
      }
    },
    {
      "cell_type": "code",
      "source": [
        "total_sales_by_region = data.groupby('Region')['Sales'].sum()\n",
        "\n",
        "print(\"\\nTotal Sales for Each Region:\")\n",
        "print(total_sales_by_region)\n"
      ],
      "metadata": {
        "colab": {
          "base_uri": "https://localhost:8080/"
        },
        "id": "KrT7sP60lCEm",
        "outputId": "07f1e460-7895-47f4-8117-a411fc2b2ad4"
      },
      "execution_count": 4,
      "outputs": [
        {
          "output_type": "stream",
          "name": "stdout",
          "text": [
            "\n",
            "Total Sales for Each Region:\n",
            "Region\n",
            "East      5818.93\n",
            "North    10449.68\n",
            "South      936.84\n",
            "West      6525.61\n",
            "Name: Sales, dtype: float64\n"
          ]
        }
      ]
    },
    {
      "cell_type": "code",
      "source": [
        "most_sold_product = data.groupby('Product')['Quantity'].sum().idxmax()\n",
        "most_sold_quantity = data.groupby('Product')['Quantity'].sum().max()\n",
        "\n",
        "print(\"\\nMost Sold Product:\")\n",
        "print(f\"Product: {most_sold_product}, Total Quantity Sold: {most_sold_quantity}\")\n"
      ],
      "metadata": {
        "colab": {
          "base_uri": "https://localhost:8080/"
        },
        "id": "MgUDnb2clEeh",
        "outputId": "f40d6b8b-3161-4665-e03d-da852ea142e0"
      },
      "execution_count": 5,
      "outputs": [
        {
          "output_type": "stream",
          "name": "stdout",
          "text": [
            "\n",
            "Most Sold Product:\n",
            "Product: Tablet, Total Quantity Sold: 38\n"
          ]
        }
      ]
    },
    {
      "cell_type": "code",
      "source": [
        "data['Profit_Margin'] = (data['Profit'] / data['Sales']) * 100\n",
        "average_profit_margin = data.groupby('Product')['Profit_Margin'].mean()\n",
        "\n",
        "print(\"\\nAverage Profit Margin for Each Product:\")\n",
        "print(average_profit_margin)\n"
      ],
      "metadata": {
        "colab": {
          "base_uri": "https://localhost:8080/"
        },
        "id": "Rldi1MQUlHO2",
        "outputId": "01a7317a-ee32-493e-f9b8-9b021c249c75"
      },
      "execution_count": 6,
      "outputs": [
        {
          "output_type": "stream",
          "name": "stdout",
          "text": [
            "\n",
            "Average Profit Margin for Each Product:\n",
            "Product\n",
            "Keyboard      20.080696\n",
            "Laptop        17.112734\n",
            "Monitor       15.134989\n",
            "Smartphone    23.703647\n",
            "Tablet        19.955758\n",
            "Name: Profit_Margin, dtype: float64\n"
          ]
        }
      ]
    },
    {
      "cell_type": "markdown",
      "source": [
        "**Day**-**8**\n"
      ],
      "metadata": {
        "id": "EdBlxKeFlJ90"
      }
    },
    {
      "cell_type": "code",
      "source": [
        "import pandas as pd\n",
        "\n",
        "file_path = '/content/drive/MyDrive/Day_8_sales_data.csv'\n",
        "data = pd.read_csv(file_path)\n",
        "\n",
        "print(\"First 5 rows of the dataset:\")\n",
        "print(data.head())\n",
        "sales_above_1000 = data[data['Sales'] > 1000]\n",
        "print(\"\\nRows where Sales > 1000:\")\n",
        "print(sales_above_1000)\n",
        "\n",
        "sales_east_region = data[data['Region'] == \"East\"]\n",
        "print(\"\\nSales records for the 'East' region:\")\n",
        "print(sales_east_region)\n",
        "\n",
        "data['Profit_Per_Unit'] = data['Profit'] / data['Quantity']\n",
        "print(\"\\nDataset with 'Profit_Per_Unit' column added:\")\n",
        "print(data.head())\n",
        "data['High_Sales'] = data['Sales'].apply(lambda x: 'Yes' if x > 1000 else 'No')\n",
        "print(\"\\nDataset with 'High_Sales' column added:\")\n",
        "print(data.head())\n"
      ],
      "metadata": {
        "colab": {
          "base_uri": "https://localhost:8080/"
        },
        "id": "SSosaHholJu_",
        "outputId": "4e29e251-778f-4a30-fcb4-454d9f89a29c"
      },
      "execution_count": 9,
      "outputs": [
        {
          "output_type": "stream",
          "name": "stdout",
          "text": [
            "First 5 rows of the dataset:\n",
            "         Date Product Region    Sales  Profit  Quantity\n",
            "0  2023-01-02  Tablet   East  1061.81  236.12         7\n",
            "1  2023-01-06  Laptop  North  1926.07  246.34         8\n",
            "2  2023-01-03  Tablet   East  1597.99  253.17         3\n",
            "3  2023-01-20  Tablet  North  1397.99  242.23         1\n",
            "4  2023-01-04  Laptop   West   734.03  140.36         4\n",
            "\n",
            "Rows where Sales > 1000:\n",
            "          Date     Product Region    Sales  Profit  Quantity\n",
            "0   2023-01-02      Tablet   East  1061.81  236.12         7\n",
            "1   2023-01-06      Laptop  North  1926.07  246.34         8\n",
            "2   2023-01-03      Tablet   East  1597.99  253.17         3\n",
            "3   2023-01-20      Tablet  North  1397.99  242.23         1\n",
            "7   2023-01-07  Smartphone   East  1799.26  364.97         4\n",
            "8   2023-01-11  Smartphone   West  1401.67  306.24         2\n",
            "9   2023-01-01      Laptop  North  1562.11  170.72         6\n",
            "11  2023-01-12      Laptop   West  1954.86  262.16         4\n",
            "12  2023-01-09     Monitor  North  1748.66  197.62         6\n",
            "17  2023-01-18     Monitor   West  1287.13  153.86         7\n",
            "18  2023-01-13      Tablet   West  1147.92  271.88         9\n",
            "\n",
            "Sales records for the 'East' region:\n",
            "          Date     Product Region    Sales  Profit  Quantity\n",
            "0   2023-01-02      Tablet   East  1061.81  236.12         7\n",
            "2   2023-01-03      Tablet   East  1597.99  253.17         3\n",
            "6   2023-01-14    Keyboard   East   587.13   82.16         8\n",
            "7   2023-01-07  Smartphone   East  1799.26  364.97         4\n",
            "14  2023-01-08      Laptop   East   772.74  226.51         2\n",
            "\n",
            "Dataset with 'Profit_Per_Unit' column added:\n",
            "         Date Product Region    Sales  Profit  Quantity  Profit_Per_Unit\n",
            "0  2023-01-02  Tablet   East  1061.81  236.12         7        33.731429\n",
            "1  2023-01-06  Laptop  North  1926.07  246.34         8        30.792500\n",
            "2  2023-01-03  Tablet   East  1597.99  253.17         3        84.390000\n",
            "3  2023-01-20  Tablet  North  1397.99  242.23         1       242.230000\n",
            "4  2023-01-04  Laptop   West   734.03  140.36         4        35.090000\n",
            "\n",
            "Dataset with 'High_Sales' column added:\n",
            "         Date Product Region    Sales  Profit  Quantity  Profit_Per_Unit  \\\n",
            "0  2023-01-02  Tablet   East  1061.81  236.12         7        33.731429   \n",
            "1  2023-01-06  Laptop  North  1926.07  246.34         8        30.792500   \n",
            "2  2023-01-03  Tablet   East  1597.99  253.17         3        84.390000   \n",
            "3  2023-01-20  Tablet  North  1397.99  242.23         1       242.230000   \n",
            "4  2023-01-04  Laptop   West   734.03  140.36         4        35.090000   \n",
            "\n",
            "  High_Sales  \n",
            "0        Yes  \n",
            "1        Yes  \n",
            "2        Yes  \n",
            "3        Yes  \n",
            "4         No  \n"
          ]
        }
      ]
    },
    {
      "cell_type": "markdown",
      "source": [
        "**Day-9**"
      ],
      "metadata": {
        "id": "tcPGOUcjmDyn"
      }
    },
    {
      "cell_type": "code",
      "source": [
        "import pandas as pd\n",
        "\n",
        "file_path = '/content/drive/MyDrive/Day_9_banking_data.csv'\n",
        "data = pd.read_csv(file_path)\n",
        "print(\"First 5 rows of the dataset:\")\n",
        "print(data.head())\n",
        "print(\"\\nBasic statistics of numerical columns:\")\n",
        "print(data.describe())\n",
        "print(\"\\nMissing values in the dataset:\")\n",
        "print(data.isnull().sum())\n"
      ],
      "metadata": {
        "colab": {
          "base_uri": "https://localhost:8080/"
        },
        "id": "zG4zCWgzmINb",
        "outputId": "94059ecf-0858-4a84-bb51-ac3c9012f504"
      },
      "execution_count": 10,
      "outputs": [
        {
          "output_type": "stream",
          "name": "stdout",
          "text": [
            "First 5 rows of the dataset:\n",
            "         Date       Account_Type    Branch Transaction_Type  \\\n",
            "0  2023-01-19      Fixed Deposit   Central     Loan Payment   \n",
            "1  2023-01-16            Current    Uptown       Withdrawal   \n",
            "2  2023-01-10            Current    Uptown     Loan Payment   \n",
            "3  2023-01-18            Savings    Uptown     Loan Payment   \n",
            "4  2023-01-14  Recurring Deposit  Suburban     Loan Payment   \n",
            "\n",
            "   Transaction_Amount  Account_Balance  \n",
            "0              985.51          6839.59  \n",
            "1              641.43          8908.39  \n",
            "2             3363.85         12428.67  \n",
            "3             1914.60          5776.63  \n",
            "4             2788.57          4779.04  \n",
            "\n",
            "Basic statistics of numerical columns:\n",
            "       Transaction_Amount  Account_Balance\n",
            "count           20.000000        20.000000\n",
            "mean          2705.829500      7967.766500\n",
            "std           1429.829787      2770.248821\n",
            "min            641.430000      2592.160000\n",
            "25%           1482.085000      6460.127500\n",
            "50%           2567.645000      7905.275000\n",
            "75%           4121.525000      9127.702500\n",
            "max           4683.640000     12836.510000\n",
            "\n",
            "Missing values in the dataset:\n",
            "Date                  0\n",
            "Account_Type          0\n",
            "Branch                0\n",
            "Transaction_Type      0\n",
            "Transaction_Amount    0\n",
            "Account_Balance       0\n",
            "dtype: int64\n"
          ]
        }
      ]
    },
    {
      "cell_type": "code",
      "source": [
        "account_group = data.groupby('Account_Type').agg({\n",
        "    'Transaction_Amount': 'sum',\n",
        "    'Account_Balance': 'mean'\n",
        "}).reset_index()\n",
        "print(\"\\nAggregated data by Account_Type:\")\n",
        "print(account_group)\n",
        "branch_group = data.groupby('Branch').agg({\n",
        "    'Transaction_Amount': ['count', 'mean']\n",
        "}).reset_index()\n",
        "branch_group.columns = ['Branch', 'Total_Transactions', 'Average_Transaction_Amount']\n",
        "print(\"\\nAggregated data by Branch:\")\n",
        "print(branch_group)"
      ],
      "metadata": {
        "colab": {
          "base_uri": "https://localhost:8080/"
        },
        "id": "omVkrm8BmfSj",
        "outputId": "75892531-25f0-44b5-dcd2-4bcf7451deff"
      },
      "execution_count": 11,
      "outputs": [
        {
          "output_type": "stream",
          "name": "stdout",
          "text": [
            "\n",
            "Aggregated data by Account_Type:\n",
            "        Account_Type  Transaction_Amount  Account_Balance\n",
            "0            Current            15052.57      9893.404000\n",
            "1      Fixed Deposit            14102.59      6120.380000\n",
            "2  Recurring Deposit            15179.99      7627.283333\n",
            "3            Savings             9781.44      9134.110000\n",
            "\n",
            "Aggregated data by Branch:\n",
            "     Branch  Total_Transactions  Average_Transaction_Amount\n",
            "0   Central                   8                 2942.338750\n",
            "1  Downtown                   3                 3188.703333\n",
            "2  Suburban                   5                 2773.278000\n",
            "3    Uptown                   4                 1786.345000\n"
          ]
        }
      ]
    }
  ]
}