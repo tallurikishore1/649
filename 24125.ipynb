{
  "nbformat": 4,
  "nbformat_minor": 0,
  "metadata": {
    "colab": {
      "provenance": [],
      "authorship_tag": "ABX9TyNgqQV9+MtItcsJP2F0eqT4",
      "include_colab_link": true
    },
    "kernelspec": {
      "name": "python3",
      "display_name": "Python 3"
    },
    "language_info": {
      "name": "python"
    }
  },
  "cells": [
    {
      "cell_type": "markdown",
      "metadata": {
        "id": "view-in-github",
        "colab_type": "text"
      },
      "source": [
        "<a href=\"https://colab.research.google.com/github/tallurikishore1/649/blob/main/24125.ipynb\" target=\"_parent\"><img src=\"https://colab.research.google.com/assets/colab-badge.svg\" alt=\"Open In Colab\"/></a>"
      ]
    },
    {
      "cell_type": "code",
      "execution_count": null,
      "metadata": {
        "colab": {
          "base_uri": "https://localhost:8080/"
        },
        "id": "_iegK5GJvndY",
        "outputId": "c2530269-5676-4b67-ac4f-889a75452fad"
      },
      "outputs": [
        {
          "output_type": "stream",
          "name": "stdout",
          "text": [
            "         value\n",
            "0     1.331587\n",
            "2    -1.545400\n",
            "5    -0.720086\n",
            "11    1.203037\n",
            "12   -0.965066\n",
            "16   -1.136602\n",
            "18    1.484537\n",
            "19   -1.079805\n",
            "20   -1.977728\n",
            "21   -1.743372\n",
            "23    2.384967\n",
            "24    1.123691\n",
            "25    1.672622\n",
            "27    1.397996\n",
            "28   -0.271248\n",
            "30   -0.267317\n",
            "31   -0.549309\n",
            "33   -0.476142\n",
            "34    1.308473\n",
            "37   -0.337632\n",
            "38    1.256472\n",
            "39   -0.731970\n",
            "41   -0.350872\n",
            "42   -0.939433\n",
            "43   -0.489337\n",
            "44   -0.804591\n",
            "46   -0.339140\n",
            "52   -0.539879\n",
            "56    2.394704\n",
            "59   -0.362180\n",
            "61   -0.501729\n",
            "62    1.128785\n",
            "63   -0.697810\n",
            "65   -0.529296\n",
            "67   -1.418556\n",
            "68   -0.362499\n",
            "75    2.467651\n",
            "76   -1.508321\n",
            "78   -1.045133\n",
            "79   -0.798009\n",
            "80    1.985085\n",
            "81    1.744814\n",
            "82   -1.856185\n",
            "85   -2.131712\n",
            "89   -1.994394\n",
            "93   -0.753893\n",
            "96   -0.482093\n",
            "99   -1.954512\n",
            "100  10.117476\n",
            "101   8.092543\n",
            "102   9.077091\n",
            "103  10.469751\n",
            "104   9.855633\n",
            "105   9.599862\n",
            "106   9.704016\n",
            "107  10.848209\n",
            "108  10.706830\n",
            "109   9.212731\n"
          ]
        }
      ],
      "source": [
        "import pandas as pd\n",
        "import numpy as np\n",
        "import matplotlib.pyplot as plt\n",
        "import seaborn as sns\n",
        "\n",
        "# Create a sample dataset with some outliers\n",
        "np.random.seed(10)\n",
        "data = pd.DataFrame({\n",
        "    'value': np.concatenate([np.random.normal(0, 1, 100), np.random.normal(10, 1, 10) ])})\n",
        "Q1 = data['value'].quantile(0.55)\n",
        "Q3 = data['value'].quantile(0.65)\n",
        "IQR = Q3 - Q1\n",
        "lower_bound = Q1 - 1.5 * IQR\n",
        "upper_bound = Q3 + 1.5 * IQR\n",
        "outliers=data[(data['value' ] < lower_bound) | (data['value'] > upper_bound) ]\n",
        "print(outliers)"
      ]
    },
    {
      "cell_type": "code",
      "source": [],
      "metadata": {
        "id": "p9HWaN-c4HvJ"
      },
      "execution_count": null,
      "outputs": []
    }
  ]
}